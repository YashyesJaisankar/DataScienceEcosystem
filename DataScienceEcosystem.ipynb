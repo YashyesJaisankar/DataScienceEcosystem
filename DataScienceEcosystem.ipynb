{
 "cells": [
  {
   "cell_type": "markdown",
   "id": "b1ff5906-8ddd-4ad8-8444-b0b14373da1a",
   "metadata": {},
   "source": [
    "# **Data Science Tools and Ecosystem**\n"
   ]
  },
  {
   "cell_type": "markdown",
   "id": "12448eb8-a41c-44be-bd77-15eb6565b9aa",
   "metadata": {},
   "source": [
    "## **Introduction**"
   ]
  },
  {
   "cell_type": "markdown",
   "id": "601ac6ea-e6a0-45ef-981b-7c7aa9ea90c8",
   "metadata": {},
   "source": [
    "In this notebook, Data Science Tools and Ecosystem are summarized"
   ]
  },
  {
   "cell_type": "markdown",
   "id": "2211c768-4216-42d3-a234-e7448473a210",
   "metadata": {},
   "source": [
    "**Some of the popular languages that Data Scientists use are:**\n",
    "1. SQL\n",
    "2. R\n",
    "3. Python"
   ]
  },
  {
   "cell_type": "markdown",
   "id": "0d82cdf9-9280-4e03-a771-67a0c770acf9",
   "metadata": {},
   "source": [
    "**Some of the commonly used libraries used by Data Scientists include:**\n",
    "1. NumPy\n",
    "2. Pandas\n",
    "3. Scikit Learn"
   ]
  },
  {
   "cell_type": "markdown",
   "id": "c59e38ee-273e-45da-aff3-1f0bf4816300",
   "metadata": {},
   "source": [
    "# **Table of Data Science tools**"
   ]
  },
  {
   "cell_type": "markdown",
   "id": "69f17c32-8b83-4ea0-86a0-b5c6b3019df6",
   "metadata": {},
   "source": [
    "| Data Science Tools |\n",
    "|---------------------|\n",
    "|Jupyter Lab|\n",
    "|RStudio|\n",
    "|Apache Spark|"
   ]
  },
  {
   "cell_type": "markdown",
   "id": "804e9813-af54-46b3-a25a-91ee44d9e119",
   "metadata": {},
   "source": [
    "### **Below are a few examples of evaluating arithmetic expressions in Python**"
   ]
  },
  {
   "cell_type": "code",
   "execution_count": 1,
   "id": "a723a1a9-7d82-4527-b1c3-7c6821c64334",
   "metadata": {},
   "outputs": [
    {
     "data": {
      "text/plain": [
       "17"
      ]
     },
     "execution_count": 1,
     "metadata": {},
     "output_type": "execute_result"
    }
   ],
   "source": [
    "#  This a simple arithmetic expression to mutiply then add integers\n",
    "(3*4)+5"
   ]
  },
  {
   "cell_type": "code",
   "execution_count": 2,
   "id": "e05a27d5-86d6-4c7e-8842-1c9a6906ba1a",
   "metadata": {},
   "outputs": [
    {
     "data": {
      "text/plain": [
       "3.3333333333333335"
      ]
     },
     "execution_count": 2,
     "metadata": {},
     "output_type": "execute_result"
    }
   ],
   "source": [
    "# This will convert 200 minutes to hours by diving by 60\n",
    "Minutes = 200\n",
    "Hours = Minutes / 60\n",
    "Hours\n"
   ]
  },
  {
   "cell_type": "markdown",
   "id": "cdc731d4-701f-4f76-b742-3a4f262097d1",
   "metadata": {},
   "source": [
    "# **Objectives**"
   ]
  },
  {
   "cell_type": "markdown",
   "id": "04b62d57-37a9-46c8-b067-671d941ad0c3",
   "metadata": {},
   "source": [
    "- List popular languages used for Data Science\n",
    "- Identify commonly used libraries in Data Science\n",
    "- Demonstrate development environment tools used in the Data Science ecosystem\n",
    "- Perform basic arithmetic operations using Python\n",
    "- Convert time units (minutes to hours) using Python code\n",
    "\n",
    "\n"
   ]
  },
  {
   "cell_type": "markdown",
   "id": "368d557c-ad25-4af2-954b-c9054c0ec8dc",
   "metadata": {},
   "source": [
    "## **Author**\n",
    "-------\n",
    "**Yashyes Jaisankar**"
   ]
  },
  {
   "cell_type": "code",
   "execution_count": null,
   "id": "1a0ce340-4ac8-41ca-8c9d-d68e064811ea",
   "metadata": {},
   "outputs": [],
   "source": []
  }
 ],
 "metadata": {
  "kernelspec": {
   "display_name": "Python [conda env:base] *",
   "language": "python",
   "name": "conda-base-py"
  },
  "language_info": {
   "codemirror_mode": {
    "name": "ipython",
    "version": 3
   },
   "file_extension": ".py",
   "mimetype": "text/x-python",
   "name": "python",
   "nbconvert_exporter": "python",
   "pygments_lexer": "ipython3",
   "version": "3.12.7"
  }
 },
 "nbformat": 4,
 "nbformat_minor": 5
}
